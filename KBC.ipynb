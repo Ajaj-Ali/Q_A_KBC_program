{
 "cells": [
  {
   "cell_type": "code",
   "execution_count": null,
   "metadata": {},
   "outputs": [],
   "source": [
    "questions = [\n",
    "      ['Q. 1  What is the maximum possible length of an identifier?','16', '32','64', 'None of these above', 'None',4],\n",
    "      ['Q. 2  Who developed the Python language?','Zim Den', 'Guido Van Rossum','Niene Stom', 'Wick Van Rossum', 'None',2],\n",
    "      ['Q. 3  In which year was the Python language developed?','1995', '1972','1981', '1989', 'None',4],\n",
    "      ['Q. 4  In which language is Python written?','English', 'PHP','C', 'All of the above', 'None',3],\n",
    "      ['Q. 5  Which one of the following is the correct extension of the Python file?','.py', '.python','.p', 'None of these', 'None',1],\n",
    "      ['Q. 6  In which year was the Python 3.0 version developed?','2008', '2000','2010', '2005', 'None',1],\n",
    "      ['Q. 7  What do we use to define a block of code in Python language?','Key', 'Brackets','Indentation', 'None of these', 'None',3],\n",
    "      ['Q. 8  Which character is used in Python to make a single line comment?','/', '//','#', '!', 'None',3],\n",
    "      ['Q. 9  Which of the following statements is correct regarding the object-oriented programming concept in Python?','Classes are real-world entities while objects are not real', 'Objects are real-world entities while class are not real','Both objects and classes are real-world entities', 'All of the above', 'None',2],\n",
    "      ['Q. 10 Which of the following statements is correct in this python code\\nclassName:\\n  def_init_(javatpoint):\\n      javajavatpoint=java\\nname1=Name(\"ABC\")\\nname2=name1','It will throw the error as multiple reference to the same object is not possible','id(name1) and id(name2) will have same value','Both name1 and name2 will have reference to two different objects of class Name', 'All of the above', 'None',2],\n",
    "      ['Q. 11 What is the method inside the class in Python language?','Object','Function','Attribute','Argument','None',2],\n",
    "      ['Q. 12 Which of the following declarations is incorrect?','_x=2', '__x=3','__xyz__=5', 'None of these', 'None',4],\n",
    "      ['Q. 13 Why does the name of local variables start with an underscore discouraged?','To identify the variable', 'It confuses the interpreter','It indicates a private variable of a class', 'None of these', 'None',3],\n",
    "      ['Q. 14 Which of the following statements is correct for variable names in Python language?','All variable names must begin with an underscore', 'Unlimited length','The variable name length is a maximum of 2', 'All of the above', 'None',2],\n",
    "      ['Q. 15 Which of the following is not a keyword in Python language?','val', 'raise','try', 'with', 'None',1],\n",
    "      ['Q. 16 Which of the following declarations is incorrect in Python language?','xyzp=5,000,000', 'x y z p = 5000 6000 7000 8000','x,y,z,p = 5000, 6000, 7000, 8000', 'x_y_z_p = 5,000,000', 'None',2],\n",
    "      ['Q. 17 Which of the following operators is the correct option for power(ab)?','a^b', 'a**b','a^^b', 'a^*b', 'None',2],\n",
    "      ['Q. 18 Which of the following words cannot be a variable in Python language?','_val', 'val','try', '_try_', 'None',3],\n",
    "      ['Q. 19 Which of the following precedence order is correct in Python?','Parentheses, Exponential, Multiplication, Division, Addition, Subtraction', 'Multiplication, Division, Addition, Subtraction, Parentheses, Exponential','Division, Multiplication, Addition, Subtraction, Parentheses, Exponential', 'Exponential, Parentheses, Multiplication, Division,Addition, Subtraction', 'None',1],\n",
    "      ['Q. 20 Which one of the following has the same precedence level?','Division, Power, Multiplication, Addition and Subtraction', 'Division and Multiplication','Subtraction and Division', 'Powre and Division', 'None',2],\n",
    "      ['Q. 21 Which one of the following has the highest precedence in the expression?','Division', 'Subtraction','Power', 'Parentheses', 'None',4],\n",
    "      ['Q. 22 Which of the following function is a built-in function in Python language?','val()', 'printf()','print()', 'None of these', 'None',3],\n",
    "      ['Q. 23 Study the following function: \\nround(4.576)\\nWhat will be the output of this function?','4', '5','576', '5.0', 'None',2],\n",
    "      ['Q. 24 Which of the following is correctly evaluated for this function\\n pow(x,y,z)?','(x**y)/z', '(x/y)*z','(x**y)%z', '(x/y)/z', 'None',3],\n",
    "      ['Q. 25 Study the following function:\\nall([2,4,0,6])\\nWhat will be the output of this function','False', 'True','0', 'Invalid Code', 'None',1]\n",
    "]\n",
    "levels = [1000,2000,3000,5000,6000,7000,8000,9000,10000,11000,12000,13000,14000,15000,16000,17000,18000,19000,20000,21000,22000,23000,24000,25000,26000,27000,28000,40000,80000,160000,320000]\n",
    "money = 0\n",
    "for i in range(0,len(questions)):\n",
    "      question = questions[i]\n",
    "      print(f'\\nQuestion for Rs. {levels[i]}')\n",
    "      print(f'{question[0]}')\n",
    "      print(f'a.  {question[1]}')\n",
    "      print(f'b.  {question[2]}')\n",
    "      print(f'c.  {question[3]}')\n",
    "      print(f'd.  {question[4]}')\n",
    "      reply = int(input('Enter your answer (1-4)'))\n",
    "      if reply == question[-1]:\n",
    "            print(f'Correct answer, you have won Rs. {levels[i]}')\n",
    "            if i==5:\n",
    "                  money=18000\n",
    "            elif i==10:\n",
    "                  money=80000\n",
    "            elif i==10:\n",
    "                  money = 320000\n",
    "      else:\n",
    "            print('Wrong Answer!')\n",
    "            break"
   ]
  },
  {
   "cell_type": "code",
   "execution_count": null,
   "metadata": {},
   "outputs": [],
   "source": []
  }
 ],
 "metadata": {
  "kernelspec": {
   "display_name": "base",
   "language": "python",
   "name": "python3"
  },
  "language_info": {
   "codemirror_mode": {
    "name": "ipython",
    "version": 3
   },
   "file_extension": ".py",
   "mimetype": "text/x-python",
   "name": "python",
   "nbconvert_exporter": "python",
   "pygments_lexer": "ipython3",
   "version": "3.12.2"
  }
 },
 "nbformat": 4,
 "nbformat_minor": 2
}
